{
 "cells": [
  {
   "cell_type": "code",
   "execution_count": 92,
   "metadata": {},
   "outputs": [],
   "source": [
    "import numpy as np\n",
    "import matplotlib.pyplot as plt\n",
    "\n",
    "def population(age: np.array,\n",
    "               dr_accident: float or np.array,\n",
    "               dr_age: np.array,\n",
    "               evolve: float or np.array,\n",
    "               influx: np.array\n",
    "              ) -> (np.array,np.array):\n",
    "    \"\"\"\n",
    "    Returns the steady state population of the level, and the evolution flux\n",
    "    \n",
    "    :param age: age\n",
    "    :param dr_accident: probability that one dies from non-age related cause in a year\n",
    "    :param dr_age: probability that someone aged x will die before reaching age x+1 due to age related causes\n",
    "    :param evolve: probability that someone aged x will evolve to next level before reaching age x+1\n",
    "    :param influx: amount of people of age x evolving to the current level within the one year period\n",
    "    \"\"\"\n",
    "    q = dr_accident + dr_age + evolve\n",
    "    dr = dr_accident + dr_age\n",
    "    evolve = q - dr\n",
    "    N = np.ndarray(age.shape)\n",
    "    Nevo = 0\n",
    "    Ndie = 0\n",
    "    \n",
    "    N[0] = influx[0]\n",
    "    for i in range(1,len(N)):\n",
    "        N[i] = influx[i] + N[i-1]*(1-q[i-1])\n",
    "        Nevo += N[i-1]*evolve[i-1]\n",
    "        Ndie += N[i-1]*dr[i-1]\n",
    "    \n",
    "    evolveFlux = N*evolve\n",
    "    evolveRate = Nevo/(Ndie+Nevo)\n",
    "    \n",
    "    return N,evolveFlux,evolveRate\n"
   ]
  },
  {
   "cell_type": "code",
   "execution_count": 86,
   "metadata": {},
   "outputs": [],
   "source": [
    "def drAge(x: np.array,\n",
    "          x0: float,\n",
    "          k: float)-> np.array:\n",
    "    \"\"\"\n",
    "    Returns the age related death rate \n",
    "    \n",
    "    :param x: age\n",
    "    :param x0: age when someone has 50% chance of dying within the next year\n",
    "    :param k: parameter controlling the width of death rate\n",
    "    \"\"\"\n",
    "    return 1/(1+np.exp(-k*(x-x0)))"
   ]
  },
  {
   "cell_type": "code",
   "execution_count": 138,
   "metadata": {},
   "outputs": [
    {
     "name": "stderr",
     "output_type": "stream",
     "text": [
      "C:\\Users\\tslin\\Anaconda3\\lib\\site-packages\\ipykernel_launcher.py:11: RuntimeWarning: overflow encountered in exp\n",
      "  # This is added back by InteractiveShellApp.init_path()\n"
     ]
    },
    {
     "data": {
      "image/png": "[encoded data removed]",
      "text/plain": [
       "<Figure size 432x288 with 1 Axes>"
      ]
     },
     "metadata": {
      "needs_background": "light"
     },
     "output_type": "display_data"
    },
    {
     "name": "stdout",
     "output_type": "stream",
     "text": [
      "人口:\n",
      " 凡人 = 7747692193.0 \n",
      " 煉氣 = 88885847.0 \n",
      " 築基 = 1512314.0 \n",
      " 金丹 = 36612.0 \n",
      " 元嬰 = 464.0 \n",
      " 化神 = 3.0\n",
      "晉級率:\n",
      " 凡人->煉氣 = 0.01 \n",
      " 煉氣->築基 = 0.0115 \n",
      " 築基->金丹 = 0.0057 \n",
      " 金丹->元嬰 = 0.0081 \n",
      " 元嬰->化神 = 0.0042 \n",
      " 化神->飛升 = 0.00224\n"
     ]
    }
   ],
   "source": [
    "x = np.linspace(0,2000,2001) # age\n",
    "birth_per_yr = 1.75e8\n",
    "evolveRateYr = 2.26e-4\n",
    "difficulty = 3\n",
    "\n",
    "# level 0 - 凡人\n",
    "dr_accident = 0.01 \n",
    "dr_age = drAge(x,60,0.5)\n",
    "influx = np.zeros(x.shape)\n",
    "influx[0] = birth_per_yr\n",
    "N0,evolveFlux0,evolveRate0 = population(x,dr_accident,dr_age,evolveRateYr,influx)\n",
    "\n",
    "# level 1 - 煉氣\n",
    "dr_accident = 0.01 \n",
    "dr_age = drAge(x,100,0.5)\n",
    "N1,evolveFlux1,evolveRate1 = population(x,dr_accident,dr_age,evolveRateYr,evolveFlux0)\n",
    "\n",
    "# level 2 - 築基\n",
    "dr_accident = 0.01 \n",
    "dr_age = drAge(x,200,0.5)\n",
    "N2,evolveFlux2,evolveRate2 = population(x,dr_accident,dr_age,evolveRateYr/difficulty,evolveFlux1)\n",
    "\n",
    "# level 3 - 金丹\n",
    "dr_accident = 0.001 \n",
    "dr_age = drAge(x,500,0.5)\n",
    "N3,evolveFlux3,evolveRate3 = population(x,dr_accident,dr_age,evolveRateYr/difficulty**2,evolveFlux2)\n",
    "\n",
    "# level 4 - 元嬰\n",
    "dr_accident = 0.001 \n",
    "dr_age = drAge(x,1000,0.5)\n",
    "N4,evolveFlux4,evolveRate4 = population(x,dr_accident,dr_age,evolveRateYr/difficulty**3,evolveFlux3)\n",
    "\n",
    "# level 5 - 化神\n",
    "dr_accident = 0.001 \n",
    "dr_age = drAge(x,2000,0.5)\n",
    "N5,evolveFlux5,evolveRate5 = population(x,dr_accident,dr_age,evolveRateYr/difficulty**4,evolveFlux4)\n",
    "\n",
    "\n",
    "\n",
    "plt.semilogy(x,N0,label='0')\n",
    "plt.semilogy(x,N1,label='1')\n",
    "plt.semilogy(x,N2,label='2')\n",
    "plt.semilogy(x,N3,label='3')\n",
    "plt.semilogy(x,N4,label='4')\n",
    "plt.semilogy(x,N5,label='5')\n",
    "plt.ylim([birth_per_yr/1e15,birth_per_yr*2])\n",
    "plt.legend()\n",
    "plt.show()\n",
    "\n",
    "print('人口:\\n 凡人 = '+str(round(sum(N0),0))+' \\n 煉氣 = '+str(round(sum(N1),0))+' \\n 築基 = '+str(round(sum(N2),0))+' \\n 金丹 = '+str(round(sum(N3),0))+' \\n 元嬰 = '+str(round(sum(N4),0))+' \\n 化神 = '+str(round(sum(N5),0)))\n",
    "\n",
    "print('晉級率:\\n 凡人->煉氣 = '+str(round(evolveRate0,4))+' \\n 煉氣->築基 = '+str(round(evolveRate1,4))+' \\n 築基->金丹 = '+str(round(evolveRate2,4))+' \\n 金丹->元嬰 = '+str(round(evolveRate3,4))+' \\n 元嬰->化神 = '+str(round(evolveRate4,4))+' \\n 化神->飛升 = '+str(round(evolveRate5,5)))\n",
    "\n"
   ]
  }
 ],
 "metadata": {
  "kernelspec": {
   "display_name": "Python 3",
   "language": "python",
   "name": "python3"
  },
  "language_info": {
   "codemirror_mode": {
    "name": "ipython",
    "version": 3
   },
   "file_extension": ".py",
   "mimetype": "text/x-python",
   "name": "python",
   "nbconvert_exporter": "python",
   "pygments_lexer": "ipython3",
   "version": "3.7.3"
  }
 },
 "nbformat": 4,
 "nbformat_minor": 4
}
